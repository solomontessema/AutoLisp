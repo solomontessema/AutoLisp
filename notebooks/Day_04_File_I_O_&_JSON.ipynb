{
  "nbformat": 4,
  "nbformat_minor": 0,
  "metadata": {
    "colab": {
      "provenance": [],
      "authorship_tag": "ABX9TyNo6vI/t3bsQk2sKQA+pWzZ",
      "include_colab_link": true
    },
    "kernelspec": {
      "name": "python3",
      "display_name": "Python 3"
    },
    "language_info": {
      "name": "python"
    }
  },
  "cells": [
    {
      "cell_type": "markdown",
      "metadata": {
        "id": "view-in-github",
        "colab_type": "text"
      },
      "source": [
        "<a href=\"https://colab.research.google.com/github/solomontessema/AutoLisp/blob/main/notebooks/Day_04_File_I_O_%26_JSON.ipynb\" target=\"_parent\"><img src=\"https://colab.research.google.com/assets/colab-badge.svg\" alt=\"Open In Colab\"/></a>"
      ]
    },
    {
      "cell_type": "markdown",
      "source": [
        "<table>\n",
        "  <tr>\n",
        "    <td><img src=\"https://ionnova.com/img/ionnova_logo_name_2.png\" width=\"120px\"></td>\n",
        "    <td><h1>Day 04: File I/O & JSON</h1></td>\n",
        "  </tr>\n",
        "</table>\n"
      ],
      "metadata": {
        "id": "6YV40OZ3KEHo"
      }
    },
    {
      "cell_type": "markdown",
      "source": [
        "# Input and Output\n",
        "## Opening files for read, append, and write\n",
        "### Mode\tMeaning\n",
        "**\"r\"**\tRead only (error if file doesn’t exist)\n",
        "\n",
        "**\"w\"**\tWrite (overwrites, creates if missing)\n",
        "\n",
        "**\"a\"**\tAppend (creates if missing)\n",
        "\n",
        "**\"r+\"**\tRead & Write (file must exist, no truncation)\n",
        "\n",
        "**\"w+\"**\tRead & Write (overwrites existing content, creates if missing)\n",
        "\n",
        "**\"a+\"**\tRead & Append (keeps existing content, creates if missing)"
      ],
      "metadata": {
        "id": "YdUWIXo4lXA4"
      }
    },
    {
      "cell_type": "markdown",
      "source": [
        "# New Section"
      ],
      "metadata": {
        "id": "QridNnvP1Cx4"
      }
    },
    {
      "cell_type": "code",
      "execution_count": null,
      "metadata": {
        "colab": {
          "base_uri": "https://localhost:8080/"
        },
        "id": "pTnxaaT0XZyn",
        "outputId": "77883fb4-bd0a-405e-c803-2c0e207a395d"
      },
      "outputs": [
        {
          "output_type": "stream",
          "name": "stdout",
          "text": [
            "Mercury is the smallest planet in our solar system and closest to the Sun.\n",
            "Venus has a thick atmosphere that traps heat, making it the hottest planet.\n",
            "Earth is the only planet known to support life.\n",
            "Mars is known as the Red Planet due to its iron-rich soil.\n",
            "Jupiter is the largest planet and has a giant storm called the Great Red Spot.\n",
            "Saturn is famous for its stunning ring system.\n",
            "Uranus rotates on its side and has a pale blue color.\n",
            "Neptune is the farthest planet and has strong winds and storms.\n",
            "\n"
          ]
        }
      ],
      "source": [
        "with open(\"Mercury.txt\", \"r\") as f:\n",
        "    content = f.read()\n",
        "\n",
        "print(content)"
      ]
    },
    {
      "cell_type": "code",
      "source": [
        "import csv\n",
        "\n",
        "with open(\"customer_sales.csv\", \"r\") as file:\n",
        "    r = csv.reader(file)\n",
        "    for row in r:\n",
        "        print(row)"
      ],
      "metadata": {
        "colab": {
          "base_uri": "https://localhost:8080/"
        },
        "id": "UFs7Q9RldNPT",
        "outputId": "5610b6c2-4b65-4a2b-be27-c9da63a08644"
      },
      "execution_count": null,
      "outputs": [
        {
          "output_type": "stream",
          "name": "stdout",
          "text": [
            "['CustomerID', 'Name', 'Email', 'Product', 'Quantity', 'UnitPrice', 'Total', 'Date']\n",
            "['C001', 'Alice Johnson', 'alice.j@example.com', 'Laptop', '1', '1200.00', '1200.00', '2025-08-01']\n",
            "['C002', 'Bob Smith', 'bob.smith@example.com', 'Mouse', '2', '25.00', '50.00', '2025-08-02']\n",
            "['C003', 'Carol Lee', 'carol.lee@example.com', 'Keyboard', '1', '45.00', '45.00', '2025-08-03']\n",
            "['C004', 'David Kim', 'david.k@example.com', 'Monitor', '2', '200.00', '400.00', '2025-08-04']\n",
            "['C005', 'Eva Brown', 'eva.b@example.com', 'Headphones', '1', '80.00', '80.00', '2025-08-05']\n"
          ]
        }
      ]
    },
    {
      "cell_type": "code",
      "source": [
        "import json\n",
        "\n",
        "with open(\"customer.json\", \"r\") as file:\n",
        "    data = json.load(file)\n",
        "\n",
        "print(data)"
      ],
      "metadata": {
        "colab": {
          "base_uri": "https://localhost:8080/"
        },
        "id": "9XO9yzOleL6k",
        "outputId": "e61c015f-4e05-4685-b24a-86c71d7af27d"
      },
      "execution_count": null,
      "outputs": [
        {
          "output_type": "stream",
          "name": "stdout",
          "text": [
            "{'CustomerID': 'C001', 'Name': 'Alice Johnson', 'Email': 'alice.j@example.com', 'Product': 'Laptop', 'Quantity': 1, 'UnitPrice': 1200.0, 'Total': 1200.0, 'Date': '2025-08-01'}\n"
          ]
        }
      ]
    },
    {
      "cell_type": "code",
      "source": [
        "# Writing to a text file\n",
        "with open(\"example.txt\", \"w\") as f:\n",
        "    f.write(\"Hello, Python learners!\\n\")\n",
        "    f.write(\"This is a new line.\\n\")\n",
        "\n",
        "# Reading from a text file\n",
        "with open(\"example.txt\", \"r\") as f:\n",
        "    content = f.read()\n",
        "\n",
        "print(\"File content:\\n\", content)"
      ],
      "metadata": {
        "id": "h7oWTsiOkS_o"
      },
      "execution_count": null,
      "outputs": []
    },
    {
      "cell_type": "code",
      "source": [
        "import csv\n",
        "\n",
        "# Writing a CSV file\n",
        "with open(\"students.csv\", \"w\", newline=\"\") as f:\n",
        "    writer = csv.writer(f)\n",
        "    writer.writerow([\"Name\", \"Age\"])\n",
        "    writer.writerow([\"Alice\", 20])\n",
        "    writer.writerow([\"Bob\", 22])\n",
        "\n",
        "# Reading the CSV file\n",
        "with open(\"students.csv\", \"r\") as f:\n",
        "    reader = csv.reader(f)\n",
        "    for row in reader:\n",
        "        print(row)\n"
      ],
      "metadata": {
        "id": "91r5juFtlIc9"
      },
      "execution_count": null,
      "outputs": []
    },
    {
      "cell_type": "code",
      "source": [
        "# Step 1: Initialize the JSON file with an empty list (do this once)\n",
        "with open(\"students.json\", \"w\") as f:\n",
        "    json.dump([], f)\n",
        "\n",
        "# Step 2: Load the list from JSON\n",
        "with open(\"students.json\", \"r\") as f:\n",
        "    students = json.load(f)   # students is a list\n",
        "\n",
        "# Step 3: Append a new dictionary (student record)\n",
        "students.append({\"name\": \"Bob\", \"age\": 22})\n",
        "\n",
        "# Step 4: Save updated list back into JSON\n",
        "with open(\"students.json\", \"w\") as f:\n",
        "    json.dump(students, f, indent=4)\n",
        "\n",
        "# Step 5: Check result\n",
        "with open(\"students.json\", \"r\") as f:\n",
        "    print(json.load(f))"
      ],
      "metadata": {
        "colab": {
          "base_uri": "https://localhost:8080/"
        },
        "id": "9vRPnsyQm8QQ",
        "outputId": "3ea0f054-f702-4e39-f261-ec3e138e598d"
      },
      "execution_count": null,
      "outputs": [
        {
          "output_type": "stream",
          "name": "stdout",
          "text": [
            "[{'name': 'Bob', 'age': 22}]\n"
          ]
        }
      ]
    },
    {
      "cell_type": "code",
      "source": [
        "#  Load the list from JSON\n",
        "with open(\"students.json\", \"r\") as f:\n",
        "    students = json.load(f)   # students is a list\n",
        "\n",
        "# Append new student records\n",
        "students.append({\"name\": \"Bob\", \"age\": 22})\n",
        "students.append({\"name\": \"Alice\", \"age\": 20})   # 👈 another record\n",
        "\n",
        "#  Save updated list back into JSON\n",
        "with open(\"students.json\", \"w\") as f:\n",
        "    json.dump(students, f, indent=4)\n",
        "\n",
        "# Check result\n",
        "with open(\"students.json\", \"r\") as f:\n",
        "    print(json.load(f))"
      ],
      "metadata": {
        "id": "-BihDXHBqvVB",
        "outputId": "fea44f80-2f0b-4bbd-82d9-746ecdcf7504",
        "colab": {
          "base_uri": "https://localhost:8080/"
        }
      },
      "execution_count": null,
      "outputs": [
        {
          "output_type": "stream",
          "name": "stdout",
          "text": [
            "[{'name': 'Bob', 'age': 22}, {'name': 'Bob', 'age': 22}, {'name': 'Alice', 'age': 20}]\n"
          ]
        }
      ]
    },
    {
      "cell_type": "markdown",
      "source": [
        "**This is not correct**"
      ],
      "metadata": {
        "id": "rTTX5vZsoy1u"
      }
    },
    {
      "cell_type": "code",
      "source": [
        "# Python dictionary\n",
        "student = {\n",
        "    \"name\": \"Alice\",\n",
        "    \"age\": 20,\n",
        "    \"subjects\": [\"Math\", \"Python\"]\n",
        "}\n",
        "\n",
        "# Writing JSON to a file\n",
        "with open(\"student.json\", \"a\") as f:\n",
        "    json.dump(student, f, indent=4)\n",
        "print(\"Loaded JSON:\", data)"
      ],
      "metadata": {
        "id": "dQJRKXRDo33n"
      },
      "execution_count": null,
      "outputs": []
    }
  ]
}